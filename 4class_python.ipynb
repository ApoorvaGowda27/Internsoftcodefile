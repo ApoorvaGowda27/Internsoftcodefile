{
  "cells": [
    {
      "cell_type": "markdown",
      "metadata": {
        "id": "view-in-github",
        "colab_type": "text"
      },
      "source": [
        "<a href=\"https://colab.research.google.com/github/ApoorvaGowda27/Internsoftcodefile/blob/main/4class_python.ipynb\" target=\"_parent\"><img src=\"https://colab.research.google.com/assets/colab-badge.svg\" alt=\"Open In Colab\"/></a>"
      ]
    },
    {
      "cell_type": "markdown",
      "metadata": {
        "id": "8cbcxFZnvYpK"
      },
      "source": [
        "# Object Oriented Programming and File I/O"
      ]
    },
    {
      "cell_type": "markdown",
      "metadata": {
        "id": "AFCx_WrxvYpP"
      },
      "source": [
        "__Object Oriented Programming (OOP)__ is a programming paradigm that allows abstraction through the concept of interacting entities. This programming works contradictory to conventional model and is procedural, in which programs are organized as a sequence of commands or statements to perform.\n",
        "\n",
        "We can think an object as an entity that resides in memory, has a state and it's able to perform some actions.\n",
        "\n",
        "More formally objects are entities that represent **instances** of a general abstract concept called **class**. In `Python`, \"attributes\" are the variables defining an object state and the possible actions are called \"methods\".\n",
        "\n",
        "In Python, everything is an object also classes and functions."
      ]
    },
    {
      "cell_type": "markdown",
      "metadata": {
        "id": "pSbbRYMJvYpQ"
      },
      "source": [
        "## 1 How to define classes"
      ]
    },
    {
      "cell_type": "markdown",
      "metadata": {
        "id": "9anugsN2vYpR"
      },
      "source": [
        "### 1.1 Creating a class"
      ]
    },
    {
      "cell_type": "markdown",
      "metadata": {
        "id": "9HJO12OzvYpS"
      },
      "source": [
        "Suppose we want to create a class, named Person, as a prototype, a sort of template for any number of 'Person' objects (instances)."
      ]
    },
    {
      "cell_type": "markdown",
      "metadata": {
        "id": "ueFtmggovYpS"
      },
      "source": [
        "The following python syntax defines a class:\n",
        "\n",
        "    class ClassName(base_classes):\n",
        "        statements\n",
        "\n",
        "        "
      ]
    },
    {
      "cell_type": "markdown",
      "metadata": {
        "id": "owFWQvWZvYpT"
      },
      "source": [
        "Class names should always be uppercase (it's a naming convention)."
      ]
    },
    {
      "cell_type": "markdown",
      "metadata": {
        "id": "BU1exWY0vYpU"
      },
      "source": [
        "Say we need to model a Person as:\n",
        "\n",
        "* Name\n",
        "* Surname  \n",
        "* Age  "
      ]
    },
    {
      "cell_type": "code",
      "execution_count": null,
      "metadata": {
        "id": "J1bjtlbovYpV",
        "colab": {
          "base_uri": "https://localhost:8080/"
        },
        "outputId": "7d364c87-a396-4224-d505-1e113ba8633f"
      },
      "outputs": [
        {
          "output_type": "stream",
          "name": "stdout",
          "text": [
            "alice baldwin was born in 1958.\n"
          ]
        }
      ],
      "source": [
        "class Person:\n",
        "  pass\n",
        "john_doe=Person()\n",
        "john_doe.name=\"alice\"\n",
        "john_doe.surname=\"baldwin\"\n",
        "john_doe.year_of_birth=1958\n",
        "\n",
        "print(\"%s %s was born in %d.\" % (john_doe.name,john_doe.surname,john_doe.year_of_birth))\n",
        "\n",
        "\n",
        "\n"
      ]
    },
    {
      "cell_type": "markdown",
      "metadata": {
        "id": "UQsxB3dzvYpa"
      },
      "source": [
        "The following example defines an empty class (i.e. the class doesn't have a state) called _Person_ then creates a _Person_ instance called _john_doe_ and adds three attributes to _john_doe_. We see that we can access objects attributes using the \"dot\" operator.\n",
        "\n",
        "This isn't a recommended style because classes should describe homogeneous entities. A way to do so is the following:"
      ]
    },
    {
      "cell_type": "code",
      "execution_count": null,
      "metadata": {
        "id": "gY_ONs83vYpb"
      },
      "outputs": [],
      "source": [
        "class Person:\n",
        "  def __init__(self,name,surname,year_of_birth):\n",
        "      self.name=name\n",
        "      self.surname=surname\n",
        "      self.year_of_birth=year_of_birth"
      ]
    },
    {
      "cell_type": "markdown",
      "metadata": {
        "id": "vd26MgG3vYpb"
      },
      "source": [
        "    __init__(self, ...)\n",
        "Is a special _Python_ method that is automatically called after an object construction. Its purpose is to initialize every object state. The first argument (by convention) __self__ is automatically passed either and refers to the object itself.\n",
        "\n",
        "In the preceding example, `__init__` adds three attributes to every object that is instantiated. So the class is actually describing each object's state.\n"
      ]
    },
    {
      "cell_type": "markdown",
      "metadata": {
        "id": "_2IgObsIvYpb"
      },
      "source": [
        "We cannot directly manipulate any class rather we need to create an instance of the class:"
      ]
    },
    {
      "cell_type": "code",
      "execution_count": null,
      "metadata": {
        "id": "nKTKePmwvYpb"
      },
      "outputs": [],
      "source": [
        "alec=Person(\"alice\",\"ddd\",\"1958\")\n",
        "print(alec)\n",
        "print(\"%s %s was born in %d.\" % (alec.name, alec.surname, alec.year_of_birth))\n"
      ]
    },
    {
      "cell_type": "markdown",
      "metadata": {
        "id": "kLUNI2B5vYpc"
      },
      "source": [
        "\n",
        "We have just created an instance of the Person class, bound to the variable `alec`."
      ]
    },
    {
      "cell_type": "markdown",
      "metadata": {
        "id": "30cbyS5pvYpc"
      },
      "source": [
        "### 1.2 Methods"
      ]
    },
    {
      "cell_type": "code",
      "execution_count": null,
      "metadata": {
        "id": "5DId1rjRvYpc",
        "colab": {
          "base_uri": "https://localhost:8080/"
        },
        "outputId": "991fb568-89c3-49c2-ddf8-432b75e2a2eb"
      },
      "outputs": [
        {
          "output_type": "stream",
          "name": "stdout",
          "text": [
            "alec baldwin was born in 1958 \n",
            "61\n"
          ]
        }
      ],
      "source": [
        "class Person:\n",
        "  def __init__(self,name,surname,year_of_birth):\n",
        "      self.name=name\n",
        "      self.surname=surname\n",
        "      self.year_of_birth=year_of_birth\n",
        "  def age(self,current_year):\n",
        "      return current_year-self.year_of_birth\n",
        "  def __str__(self):\n",
        "    return \"%s %s was born in %d \"% (self.name,self.surname,self.year_of_birth)\n",
        "alec=Person(\"alec\",\"baldwin\",1958)\n",
        "print(alec)\n",
        "print(alec.age(2019))\n"
      ]
    },
    {
      "cell_type": "markdown",
      "metadata": {
        "id": "qsjRX69vvYpd"
      },
      "source": [
        "We defined two more methods `age` and  `__str__`. The latter is once again a special method that is called by Python when the object has to be represented as a string (e.g. when has to be printed). If the `__str__` method isn't defined the **print** command shows the type of object and its address in memory. We can see that in order to call a method we use the same syntax for attributes (**instance_name.instance _method**)."
      ]
    },
    {
      "cell_type": "markdown",
      "metadata": {
        "id": "JLqYOwcWvYpd"
      },
      "source": [
        "## 2 Inheritance"
      ]
    },
    {
      "cell_type": "markdown",
      "metadata": {
        "id": "ooVvsOLxvYpd"
      },
      "source": [
        "Once a class is defined it models a concept. It is useful to extend a class behavior to model a less general concept. Say we need to model a Student, but we know that every student is also a Person so we shouldn't model the Person again but inherit from it instead."
      ]
    },
    {
      "cell_type": "markdown",
      "metadata": {
        "id": "VrLnmwvdvYpe"
      },
      "source": [
        "Charlie now has the same behavior of a Person, but his state has also a student ID. A Person is one of the base classes of Student and Student is one of the sub classes of Person. Be aware that a subclass knows about its superclasses but the converse isn't true.\n",
        "\n",
        "A sub class doesn't only inherits from its base classes, but from its base classes too, forming an inheritance tree that starts from a object (every class base class).\n",
        "\n",
        "    super(Class, instance)\n",
        "    \n",
        "is a function that returns a proxy-object that delegates method calls to a parent or sibling class of type.\n",
        "So we used it to access Person's `__init__`."
      ]
    },
    {
      "cell_type": "markdown",
      "metadata": {
        "id": "g3s84FPavYpe"
      },
      "source": [
        "### 2.1 Overriding methods"
      ]
    },
    {
      "cell_type": "markdown",
      "metadata": {
        "id": "UNUwXxcpvYpe"
      },
      "source": [
        "Inheritance allows to add new methods to a subclass but often is useful to change the behavior of a method defined in the superclass. To override a method just define it again."
      ]
    },
    {
      "cell_type": "markdown",
      "metadata": {
        "id": "yR1SVmlKvYpf"
      },
      "source": [
        "We defined `__str__` again overriding the one wrote in Person, but we wanted to extend it, so we used super to achieve our goal."
      ]
    },
    {
      "cell_type": "markdown",
      "metadata": {
        "id": "Dj-AcMTpvYpf"
      },
      "source": [
        "## 3 Encapsulation"
      ]
    },
    {
      "cell_type": "markdown",
      "metadata": {
        "id": "Vdh7RyTUvYpf"
      },
      "source": [
        "Encapsulation is an another powerful way to extend a class which consists on wrapping an object with a second one.\n",
        "There are two main reasons to use encapsulation:\n",
        "* Composition\n",
        "* Dynamic Extension\n"
      ]
    },
    {
      "cell_type": "markdown",
      "metadata": {
        "id": "aVEgJR8AvYpf"
      },
      "source": [
        "### 3.1 Composition"
      ]
    },
    {
      "cell_type": "markdown",
      "metadata": {
        "id": "LfPffCfevYpf"
      },
      "source": [
        "The abstraction process relies on creating a simplified model that remove useless details from a concept. In order to be simplified, a model should be described in terms of other simpler concepts.\n",
        "For example, we can say that a car is composed by:\n",
        "* Tyres\n",
        "* Engine\n",
        "* Body\n",
        "\n",
        "And break down each one of these elements in simpler parts until we reach primitive data."
      ]
    },
    {
      "cell_type": "markdown",
      "metadata": {
        "id": "9pTHiVDOvYpg"
      },
      "source": [
        "## 4 Polymorphism and DuckTyping"
      ]
    },
    {
      "cell_type": "markdown",
      "metadata": {
        "id": "kXX6R5f7vYpg"
      },
      "source": [
        "`Python` uses dynamic typing which is also called as duck typing. If an object implements a method you can use it, irrespective of the type. This is different from statically typed languages, where the type of a construct need to be explicitly declared. Polymorphism is the ability to use the same syntax for objects of different types:"
      ]
    },
    {
      "cell_type": "code",
      "execution_count": null,
      "metadata": {
        "id": "bDFMrVEPvYpg",
        "colab": {
          "base_uri": "https://localhost:8080/"
        },
        "outputId": "e3478e6e-0777-4337-8a31-e0d18cec7eec"
      },
      "outputs": [
        {
          "output_type": "stream",
          "name": "stdout",
          "text": [
            "5\n"
          ]
        }
      ],
      "source": [
        "def Summer(a,b):\n",
        "  return a + b\n",
        "print(Summer(2,3))\n",
        "\n"
      ]
    },
    {
      "cell_type": "markdown",
      "metadata": {
        "id": "GypkpDoIvYpg"
      },
      "source": [
        "## 5 How long does a class should be?"
      ]
    },
    {
      "cell_type": "markdown",
      "metadata": {
        "id": "tg4h6LZXvYpg"
      },
      "source": [
        "There is an Object Oriented Programming (OOP) principle called Single Responsibility Principle (SRP) and it states: \"A class should have one single responsibility\" or \"A class should have only one reason to change\".\n",
        "\n",
        "If you come across a class which doesn't follow the SRP principle, you should spilt it. You will be grateful to SRP during your software maintenance."
      ]
    },
    {
      "cell_type": "markdown",
      "metadata": {
        "id": "p6TI45aMvYph"
      },
      "source": [
        "# Files\n",
        "\n",
        "Python uses file objects to interact with the external files on your computer. These file objects cab be of any file format on your computer i.e. can be an audio file, a text file, emails, Excel documents, etc. Note that You will probably need to install certain libraries or modules to interact with those various file types, but they are easily available. (We will cover downloading modules later on in the course).\n",
        "\n",
        "Python has a built-in open function that allows us to open and play with basic file types. First we will need a file though. We're going to use some iPython magic to create a text file!\n",
        "\n",
        "## iPython Writing a File"
      ]
    },
    {
      "cell_type": "code",
      "execution_count": null,
      "metadata": {
        "id": "RjMQCLAXvYph"
      },
      "outputs": [],
      "source": [
        "%%writefile test.Text\n",
        "hello this is a quick test file"
      ]
    },
    {
      "cell_type": "markdown",
      "metadata": {
        "id": "0TpSskzAvYph"
      },
      "source": [
        "## Python Opening a file\n",
        "\n",
        "We can open a file with the open() function. This function also takes in arguments (also called parameters). Let's see how this is used:"
      ]
    },
    {
      "cell_type": "code",
      "execution_count": null,
      "metadata": {
        "id": "_SftnvD-vYpz"
      },
      "outputs": [],
      "source": [
        "# Open the text.txt we made earlier\n",
        "my_file=open('test.txt')"
      ]
    },
    {
      "cell_type": "code",
      "execution_count": null,
      "metadata": {
        "id": "zc1yF2ravYp0"
      },
      "outputs": [],
      "source": [
        "# We can now read the file\n",
        "my_file=open('test.txt')"
      ]
    },
    {
      "cell_type": "code",
      "execution_count": null,
      "metadata": {
        "id": "_NI2q9CbvYp0"
      },
      "outputs": [],
      "source": [
        "# But what happens if we try to read it again?\n",
        "my_file.read()"
      ]
    },
    {
      "cell_type": "markdown",
      "metadata": {
        "id": "cDOUkvDSvYp0"
      },
      "source": [
        "This happens because you can imagine the reading \"cursor\" is at the end of the file after having read it. So there is nothing left to read. We can reset the \"cursor\" like this:"
      ]
    },
    {
      "cell_type": "code",
      "execution_count": null,
      "metadata": {
        "id": "579G9vmLvYp1"
      },
      "outputs": [],
      "source": [
        "# Seek to the start of file (index 0)\n",
        "my_file.seek(0)"
      ]
    },
    {
      "cell_type": "code",
      "execution_count": null,
      "metadata": {
        "id": "QqBkE1bfvYp1"
      },
      "outputs": [],
      "source": [
        "# Now read again\n",
        "my_file.read()"
      ]
    },
    {
      "cell_type": "markdown",
      "metadata": {
        "id": "CmDSkuXJvYp1"
      },
      "source": [
        "In order to not have to reset every time, we can also use the readlines method. Use caution with large files, since everything will be held in memory. We will learn how to iterate over large files later in the course."
      ]
    },
    {
      "cell_type": "code",
      "execution_count": null,
      "metadata": {
        "id": "YqsugiE1vYp1"
      },
      "outputs": [],
      "source": [
        "# Seek to the start of file (index 0)\n",
        "my_file.seek(0)\n"
      ]
    },
    {
      "cell_type": "code",
      "execution_count": null,
      "metadata": {
        "id": "UODZjFygvYp2"
      },
      "outputs": [],
      "source": [
        "# Readlines returns a list of the lines in the file.\n",
        "my_file.readlines()"
      ]
    },
    {
      "cell_type": "markdown",
      "metadata": {
        "id": "V6hCMM7IvYp2"
      },
      "source": [
        "## Writing to a File\n",
        "\n",
        "By default, using the open() function will only allow us to read the file, we need to pass the argument 'w' to write over the file. For example:"
      ]
    },
    {
      "cell_type": "code",
      "execution_count": null,
      "metadata": {
        "id": "__r_RLPqvYp2"
      },
      "outputs": [],
      "source": [
        "# Add the second argument to the function, 'w' which stands for write\n",
        "my_file=open('superman.txt','w+')"
      ]
    },
    {
      "cell_type": "code",
      "execution_count": null,
      "metadata": {
        "id": "YorFbbQovYp4"
      },
      "outputs": [],
      "source": [
        "# Write to the file\n",
        "my_file.writer('this is a new line')"
      ]
    },
    {
      "cell_type": "code",
      "execution_count": null,
      "metadata": {
        "id": "7C-Eq7RKvYp5"
      },
      "outputs": [],
      "source": [
        "# Seek to the start of file (index 0)\n",
        "my_file.seek(0)"
      ]
    },
    {
      "cell_type": "code",
      "execution_count": null,
      "metadata": {
        "id": "FNHrbXG_vYp5"
      },
      "outputs": [],
      "source": [
        "# Rmead the file\n",
        "my_file.read()"
      ]
    },
    {
      "cell_type": "markdown",
      "metadata": {
        "id": "kWB3owJkvYp5"
      },
      "source": [
        "## Iterating through a File\n",
        "\n",
        "Let's get a quick preview of a for loop by iterating over a text file. First, let's make a new text file with some iPython Magic:"
      ]
    },
    {
      "cell_type": "code",
      "execution_count": null,
      "metadata": {
        "id": "vGlYC5TtvYp6"
      },
      "outputs": [],
      "source": [
        "%%writefile test.txt\n",
        "first line\n",
        "second line"
      ]
    },
    {
      "cell_type": "markdown",
      "metadata": {
        "id": "L9PHCwxMvYp6"
      },
      "source": [
        "Now we can use a little bit of flow to tell the program to for through every line of the file and do something:"
      ]
    },
    {
      "cell_type": "code",
      "execution_count": null,
      "metadata": {
        "id": "AGyG40DOvYp6"
      },
      "outputs": [],
      "source": [
        "for line in open('test.txt'):\n",
        "  print(line)"
      ]
    },
    {
      "cell_type": "code",
      "execution_count": null,
      "metadata": {
        "id": "yghekGRLvYp6"
      },
      "outputs": [],
      "source": [
        "# Pertaining to the first point above\n",
        "for asdf in open('test.txt'):\n",
        "  print(line)"
      ]
    },
    {
      "cell_type": "markdown",
      "metadata": {
        "id": "xVkiar4EvYp6"
      },
      "source": [
        "# StringIO\n",
        "\n",
        "The StringIO module implements an in-memory filelike object. This object can then be used as input or output to most functions that would expect a standard file object.\n",
        "\n",
        "The best way to show this is by example:"
      ]
    },
    {
      "cell_type": "code",
      "execution_count": null,
      "metadata": {
        "id": "uLkWgU3jvYp7"
      },
      "outputs": [],
      "source": [
        "from io import StringIO"
      ]
    },
    {
      "cell_type": "code",
      "execution_count": null,
      "metadata": {
        "id": "z16I6dkyvYp7"
      },
      "outputs": [],
      "source": [
        "# Arbitrary String\n",
        "message='this is just a normal string'\n"
      ]
    },
    {
      "cell_type": "code",
      "execution_count": null,
      "metadata": {
        "id": "ex2sGcEzvYp7"
      },
      "outputs": [],
      "source": [
        "# Use StringIO method to set as file object\n",
        "f=StringIO(message)"
      ]
    },
    {
      "cell_type": "markdown",
      "metadata": {
        "id": "plKCFUdwvYp7"
      },
      "source": [
        "Now we have an object *f* that we will be able to treat just like a file. For example:"
      ]
    },
    {
      "cell_type": "code",
      "execution_count": null,
      "metadata": {
        "id": "Au3lWrrSvYp8",
        "colab": {
          "base_uri": "https://localhost:8080/",
          "height": 36
        },
        "outputId": "fd479bc3-a769-4522-cf9d-b341499e2aaa"
      },
      "outputs": [
        {
          "output_type": "execute_result",
          "data": {
            "text/plain": [
              "'this is just a normal string'"
            ],
            "application/vnd.google.colaboratory.intrinsic+json": {
              "type": "string"
            }
          },
          "metadata": {},
          "execution_count": 20
        }
      ],
      "source": [
        "f.read()"
      ]
    },
    {
      "cell_type": "markdown",
      "metadata": {
        "id": "bY1KV7wJvYp8"
      },
      "source": [
        "We can also write to it"
      ]
    },
    {
      "cell_type": "code",
      "execution_count": null,
      "metadata": {
        "id": "EKsAG55XvYp8",
        "colab": {
          "base_uri": "https://localhost:8080/"
        },
        "outputId": "fd5c4f02-130b-4ccb-aa8d-4aaae26bd49a"
      },
      "outputs": [
        {
          "output_type": "execute_result",
          "data": {
            "text/plain": [
              "40"
            ]
          },
          "metadata": {},
          "execution_count": 21
        }
      ],
      "source": [
        "f.write('second line wrirtten to file like object')"
      ]
    },
    {
      "cell_type": "code",
      "execution_count": null,
      "metadata": {
        "id": "s24xwoA7vYp8",
        "colab": {
          "base_uri": "https://localhost:8080/"
        },
        "outputId": "0c79f06a-2036-401f-8c68-ba4a7defc8ff"
      },
      "outputs": [
        {
          "output_type": "execute_result",
          "data": {
            "text/plain": [
              "0"
            ]
          },
          "metadata": {},
          "execution_count": 22
        }
      ],
      "source": [
        "# Reset cursor just like you would a file\n",
        "f.seek(0)"
      ]
    },
    {
      "cell_type": "code",
      "execution_count": null,
      "metadata": {
        "id": "1bgGNX8dvYp8",
        "colab": {
          "base_uri": "https://localhost:8080/",
          "height": 36
        },
        "outputId": "e8d4ad8d-1d4a-4973-d6f2-250ac402b36b"
      },
      "outputs": [
        {
          "output_type": "execute_result",
          "data": {
            "text/plain": [
              "'this is just a normal stringsecond line wrirtten to file like object'"
            ],
            "application/vnd.google.colaboratory.intrinsic+json": {
              "type": "string"
            }
          },
          "metadata": {},
          "execution_count": 23
        }
      ],
      "source": [
        "# Read again\n",
        "f.read()"
      ]
    }
  ],
  "metadata": {
    "kernelspec": {
      "display_name": "Python 3",
      "language": "python",
      "name": "python3"
    },
    "language_info": {
      "codemirror_mode": {
        "name": "ipython",
        "version": 3
      },
      "file_extension": ".py",
      "mimetype": "text/x-python",
      "name": "python",
      "nbconvert_exporter": "python",
      "pygments_lexer": "ipython3",
      "version": "3.7.3"
    },
    "colab": {
      "provenance": [],
      "include_colab_link": true
    }
  },
  "nbformat": 4,
  "nbformat_minor": 0
}