{
 "cells": [
  {
   "cell_type": "code",
   "execution_count": null,
   "id": "5662a0f3",
   "metadata": {},
   "outputs": [],
   "source": [
    "!pip install SpeechRecognition\n",
    "!pip install PyAudio"
   ]
  },
  {
   "cell_type": "code",
   "execution_count": 1,
   "id": "971e3fbd",
   "metadata": {},
   "outputs": [],
   "source": [
    "import os\n",
    "import time\n",
    "import subprocess\n",
    "import json\n"
   ]
  },
  {
   "cell_type": "code",
   "execution_count": 2,
   "id": "07dbcaca",
   "metadata": {},
   "outputs": [],
   "source": [
    "import wolframalpha\n",
    "import requests\n",
    "import webbrowser\n",
    "import wikipedia\n",
    "import datetime"
   ]
  },
  {
   "cell_type": "code",
   "execution_count": 3,
   "id": "69decb79",
   "metadata": {},
   "outputs": [],
   "source": [
    "import speech_recognition as sr\n",
    "import pyttsx3\n"
   ]
  },
  {
   "cell_type": "code",
   "execution_count": 4,
   "id": "e3c28213",
   "metadata": {},
   "outputs": [
    {
     "name": "stdout",
     "output_type": "stream",
     "text": [
      "LOADING YOUR A.I PERSONAL ASSISTANT JARVIS\n"
     ]
    }
   ],
   "source": [
    "print('LOADING YOUR A.I PERSONAL ASSISTANT JARVIS')\n"
   ]
  },
  {
   "cell_type": "code",
   "execution_count": 5,
   "id": "7cba3a10",
   "metadata": {
    "scrolled": true
   },
   "outputs": [],
   "source": [
    "engine =pyttsx3.init('sapi5')\n",
    "voices = engine.getProperty('voices')\n",
    "engine.setProperty(\"voice\",'voices[0].id')"
   ]
  },
  {
   "cell_type": "code",
   "execution_count": 6,
   "id": "4a0828d8",
   "metadata": {},
   "outputs": [],
   "source": [
    "def speak(text):\n",
    "    engine.say(text)\n",
    "    engine.runAndWait()"
   ]
  },
  {
   "cell_type": "code",
   "execution_count": 7,
   "id": "97b05f40",
   "metadata": {},
   "outputs": [],
   "source": [
    "def wishme():\n",
    "    hour=datetime.datetime.now().hour\n",
    "    if hour>= 0 and hour <12:\n",
    "        speak(\"hello,good morning Apoorva\")\n",
    "        print(\"hello,good morning Apoorva\")\n",
    "    elif hour >=12 and hour <=18:\n",
    "        speak(\"hello,good afternoon Apoorva\")\n",
    "        print(\"hello,good afternoon Apoorva\")\n",
    "    else:\n",
    "        speak(\"it is already the night time better go to sleep\")\n",
    "        print(\"it is already the night time better go to sleep\")"
   ]
  },
  {
   "cell_type": "code",
   "execution_count": 8,
   "id": "6383ef1b",
   "metadata": {},
   "outputs": [],
   "source": [
    "def takeCommand():\n",
    "    r = sr.Recognizer()\n",
    "    with sr.Microphone() as source:\n",
    "        print(\"I am listening...\")\n",
    "        r.adjust_for_ambient_noise(source)\n",
    "        audio = r.listen(source)\n",
    "\n",
    "        try:\n",
    "            statement = r.recognize_google(audio, language='en-in')\n",
    "            print(f\"user said: {statement}\\n\")\n",
    "            return statement\n",
    "\n",
    "        except Exception as e:\n",
    "            speak(\"Pardon me, please say that again\")\n",
    "            return None  \n"
   ]
  },
  {
   "cell_type": "code",
   "execution_count": 9,
   "id": "27148729",
   "metadata": {},
   "outputs": [
    {
     "name": "stdout",
     "output_type": "stream",
     "text": [
      "it is already the night time better go to sleep\n"
     ]
    }
   ],
   "source": [
    "speak(\"LOADING YOU PERSONAL A.I ASSISTANT JARVIS\")\n",
    "wishme()"
   ]
  },
  {
   "cell_type": "code",
   "execution_count": null,
   "id": "7ea42ef3",
   "metadata": {},
   "outputs": [
    {
     "name": "stdout",
     "output_type": "stream",
     "text": [
      "I am listening...\n"
     ]
    }
   ],
   "source": [
    "if __name__ == '__main__':\n",
    "    while True:\n",
    "        speak(\"how can i help you?\")\n",
    "        statement =takeCommand().lower()\n",
    "        if statement == 0:\n",
    "            continue\n",
    "        if \"good bye\" in statement or \"ok bye\" in statement or \"stop\" in statement:\n",
    "            speak(\"your personal ai assistant jarvis is shutting down, good bye\")\n",
    "            print(\"your personal ai assistant jarvis is shutting down, good bye\")\n",
    "            break\n",
    "        if 'wikipedia' in statement:\n",
    "            speak(\"searching wikipedia....\")\n",
    "            statement = statement.replace(\"wikipedia\", \" \")\n",
    "            results = wikipedia.summary(statement, sentences=3)\n",
    "            speak(\"According to wikipedia...\")\n",
    "            print(results)\n",
    "            speak(results)\n",
    "\n",
    "        elif \"open youtube\" in statement:\n",
    "            webbrowser.open_new_tab(\"https://www.youtube.com\")\n",
    "            speak(\"YouTube is open for you\")\n",
    "            time.sleep(5)\n",
    "\n",
    "        elif \"open google\" in statement:\n",
    "            webbrowser.open_new_tab(\"https://www.google.com\")\n",
    "            speak(\"Google search is open\")\n",
    "            time.sleep(5)\n",
    "\n",
    "        elif \"open gmail\" in statement:\n",
    "            webbrowser.open_new_tab(\"https://www.gmail.com\")\n",
    "            speak(\"Your Gmail is open\")\n",
    "            time.sleep(5)\n",
    "\n",
    "        elif \"weather\" in statement:\n",
    "            api_key = \"8ef61edcf1c576d65d836254e11ea420\"\n",
    "            base_url = \"https://api.openweathermap.org/data/2.5/weather?\"\n",
    "            speak(\"What's the city name?\")\n",
    "            city_name = takecommand()\n",
    "            complete_url = base_url + \"appid=\" + api_key + \"&q=\" + city_name\n",
    "            response = requests.get(complete_url)\n",
    "            x = response.json()\n",
    "            if x[\"cod\"] != \"404\":\n",
    "                y = x[\"main\"]\n",
    "                current_temperature = y[\"temp\"]\n",
    "                current_humidity = y[\"humidity\"]\n",
    "                z = x[\"weather\"]\n",
    "                weather_description = z[0][\"description\"]\n",
    "                speak(\"The temperature in Kelvin is \" + str(current_temperature) +\n",
    "                      \", humidity is \" + str(current_humidity) +\n",
    "                      \"%, and weather description is \" + str(weather_description))\n",
    "                print(\"The temperature in Kelvin is \" + str(current_temperature) +\n",
    "                      \"\\nHumidity: \" + str(current_humidity) + \"%\" +\n",
    "                      \"\\nWeather description: \" + str(weather_description))\n",
    "            else:\n",
    "                speak(\"City not found\")\n",
    "                print(\"City not found\")\n",
    "\n",
    "        elif \"time\" in statement:\n",
    "            strTime = datetime.datetime.now().strftime(\"%H:%M:%S\")\n",
    "            speak(f\"The time is {strTime}\")\n",
    "\n",
    "        elif \"who are you\" in statement or \"what can you do\" in statement:\n",
    "            speak(\"I am Jarvis version 1.0, your personal assistant. I am programmed to do minor tasks like opening YouTube, Google Chrome, Gmail and Stack Overflow, predict time, take a photo, search Wikipedia, etc.\")\n",
    "\n",
    "        elif \"who made you\" in statement or \"who created you\" in statement or \"who discovered you\" in statement:\n",
    "            speak(\"I was built by Apoorva\")\n",
    "            print(\"I was built by Apoorva\")\n",
    "\n",
    "        elif \"open stack overflow\" in statement:\n",
    "            webbrowser.open_new_tab(\"https://stackoverflow.com/login\")\n",
    "            time.sleep(5)\n",
    "\n",
    "        elif \"news\" in statement:\n",
    "            webbrowser.open_new_tab(\"https://timesofindia.indiatimes.com/home/headlines\")\n",
    "            speak(\"Here are some headlines for you from Times of India - happy reading\")\n",
    "            time.sleep(7)\n",
    "\n",
    "        elif \"search\" in statement:\n",
    "            statement = statement.replace(\"search\", \" \")\n",
    "            webbrowser.open_new_tab(f\"https://www.google.com/search?q={statement}\")\n",
    "            time.sleep(5)\n",
    "\n",
    "        elif \"ask\" in statement:\n",
    "            speak(\"I can answer computational and geographical questions too. Just try me! What do you want to ask?\")\n",
    "            question = takecommand()\n",
    "            app_id = \"R2K75H-7ELALHR35X\"\n",
    "            client = wolframalpha.Client(app_id)\n",
    "            res = client.query(question)\n",
    "            answer = next(res.results).text\n",
    "            speak(answer)\n",
    "            print(answer)\n"
   ]
  },
  {
   "cell_type": "code",
   "execution_count": null,
   "id": "8c84700e",
   "metadata": {},
   "outputs": [],
   "source": []
  },
  {
   "cell_type": "code",
   "execution_count": null,
   "id": "090c44aa",
   "metadata": {},
   "outputs": [],
   "source": [
    "\n"
   ]
  },
  {
   "cell_type": "code",
   "execution_count": null,
   "id": "96ac299b",
   "metadata": {},
   "outputs": [],
   "source": []
  }
 ],
 "metadata": {
  "kernelspec": {
   "display_name": "Python 3 (ipykernel)",
   "language": "python",
   "name": "python3"
  },
  "language_info": {
   "codemirror_mode": {
    "name": "ipython",
    "version": 3
   },
   "file_extension": ".py",
   "mimetype": "text/x-python",
   "name": "python",
   "nbconvert_exporter": "python",
   "pygments_lexer": "ipython3",
   "version": "3.9.13"
  }
 },
 "nbformat": 4,
 "nbformat_minor": 5
}
